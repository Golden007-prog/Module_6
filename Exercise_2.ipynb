{
 "cells": [
  {
   "cell_type": "markdown",
   "metadata": {},
   "source": [
    "# My Jupiter Notebook"
   ]
  },
  {
   "cell_type": "markdown",
   "metadata": {},
   "source": [
    "## Introduction\n",
    "\n",
    "### This Note where I talk about Data Science Languages and Libaries"
   ]
  },
  {
   "cell_type": "markdown",
   "metadata": {},
   "source": [
    "## Data Science Languages  \n",
    "- Python  \n",
    "- R  \n",
    "- SQL  \n",
    "- Julia  \n",
    "- Scala  "
   ]
  },
  {
   "cell_type": "markdown",
   "metadata": {},
   "source": [
    "## Data Science Libraries  \n",
    "- Pandas (Data Manipulation)  \n",
    "- NumPy (Numerical Computing)  \n",
    "- Scikit-learn (Machine Learning)  \n",
    "- TensorFlow (Deep Learning)  \n",
    "- ggplot2 (Data Visualization in R)  "
   ]
  },
  {
   "cell_type": "markdown",
   "metadata": {},
   "source": [
    "## Data Science Tools  \n",
    "| Tool       | Purpose                          |  \n",
    "|------------|----------------------------------|  \n",
    "| Jupyter    | Interactive Coding Environment  |  \n",
    "| GitHub     | Version Control & Collaboration |  \n",
    "| RStudio    | R Development Environment       |  \n",
    "| Tableau    | Data Visualization              |  \n",
    "| Apache Spark | Big Data Processing            |  "
   ]
  },
  {
   "cell_type": "markdown",
   "metadata": {},
   "source": [
    "## Arithmetic Expression Examples  \n",
    "Examples include:  \n",
    "- Addition: `3 + 5 = 8`  \n",
    "- Multiplication: `4 * 6 = 24`  \n",
    "- Exponentiation: `2 ** 3 = 8`  "
   ]
  },
  {
   "cell_type": "code",
   "execution_count": 5,
   "metadata": {},
   "outputs": [
    {
     "name": "stdout",
     "output_type": "stream",
     "text": [
      "Result: 17\n"
     ]
    }
   ],
   "source": [
    "# Code to multiply and add numbers  \n",
    "result = (3 * 4) + 5  \n",
    "print(\"Result:\", result)  # Output: 17  "
   ]
  },
  {
   "cell_type": "code",
   "execution_count": 7,
   "metadata": {},
   "outputs": [
    {
     "name": "stdout",
     "output_type": "stream",
     "text": [
      "150 minutes = 2.50 hours\n"
     ]
    }
   ],
   "source": [
    "# Convert minutes to hours  \n",
    "minutes = 150  \n",
    "hours = minutes / 60  \n",
    "print(f\"{minutes} minutes = {hours:.2f} hours\")\n",
    "# Output: 150 minutes = 2.50 hours  "
   ]
  },
  {
   "cell_type": "markdown",
   "metadata": {},
   "source": [
    "## Objectives  \n",
    "- List data science languages and libraries.  \n",
    "- Summarize tools used in data science.  \n",
    "- Demonstrate arithmetic operations in Python.  \n",
    "- Convert units (minutes to hours) programmatically.  \n",
    "- Share the notebook publicly on GitHub.  "
   ]
  },
  {
   "cell_type": "markdown",
   "metadata": {},
   "source": [
    "## Author  \n",
    "Oikantik Basu"
   ]
  }
 ],
 "metadata": {
  "kernelspec": {
   "display_name": "Python 3",
   "language": "python",
   "name": "python3"
  },
  "language_info": {
   "codemirror_mode": {
    "name": "ipython",
    "version": 3
   },
   "file_extension": ".py",
   "mimetype": "text/x-python",
   "name": "python",
   "nbconvert_exporter": "python",
   "pygments_lexer": "ipython3",
   "version": "3.12.6"
  }
 },
 "nbformat": 4,
 "nbformat_minor": 2
}
